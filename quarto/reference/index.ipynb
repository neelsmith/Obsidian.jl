{
  "cells": [
    {
      "cell_type": "raw",
      "metadata": {},
      "source": [
        "---\n",
        "title: Reference\n",
        "---"
      ],
      "id": "0f8808be"
    },
    {
      "cell_type": "markdown",
      "metadata": {},
      "source": [
        "Look it up here.\n",
        "\n",
        "\n",
        "\n",
        "`f` \n",
        "\n",
        ":::{.callout-note appearance=\"minimal\"}"
      ],
      "id": "d18a4ccc"
    },
    {
      "cell_type": "code",
      "metadata": {},
      "source": [
        "#| echo: false\n",
        "#| warning: false\n",
        "using YourPackage\n",
        "@doc f"
      ],
      "id": "4bd91148",
      "execution_count": null,
      "outputs": []
    },
    {
      "cell_type": "markdown",
      "metadata": {},
      "source": [
        ":::"
      ],
      "id": "e057fec3"
    }
  ],
  "metadata": {
    "kernelspec": {
      "name": "julia-1.10",
      "language": "julia",
      "display_name": "Julia 1.10.0"
    }
  },
  "nbformat": 4,
  "nbformat_minor": 5
}