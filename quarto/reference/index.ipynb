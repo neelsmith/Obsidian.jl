{
  "cells": [
    {
      "cell_type": "raw",
      "metadata": {},
      "source": [
        "---\n",
        "title: Reference\n",
        "---"
      ],
      "id": "45bbb13a"
    },
    {
      "cell_type": "markdown",
      "metadata": {},
      "source": [
        "Look it up here.\n",
        "\n",
        "\n",
        "\n",
        "`f` \n",
        "\n",
        ":::{.callout-note appearance=\"minimal\"}"
      ],
      "id": "8b90cb1f"
    },
    {
      "cell_type": "code",
      "metadata": {},
      "source": [
        "#| echo: false\n",
        "#| warning: false\n",
        "using YourPackage\n",
        "@doc f"
      ],
      "id": "442e4261",
      "execution_count": null,
      "outputs": []
    },
    {
      "cell_type": "markdown",
      "metadata": {},
      "source": [
        ":::"
      ],
      "id": "da78278a"
    }
  ],
  "metadata": {
    "kernelspec": {
      "name": "julia-1.10",
      "language": "julia",
      "display_name": "Julia 1.10.0"
    }
  },
  "nbformat": 4,
  "nbformat_minor": 5
}