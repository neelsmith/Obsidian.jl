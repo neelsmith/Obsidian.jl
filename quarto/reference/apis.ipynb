{
  "cells": [
    {
      "cell_type": "raw",
      "metadata": {},
      "source": [
        "---\n",
        "title: \"API documentation\"\n",
        "---"
      ],
      "id": "15e2cd94"
    },
    {
      "cell_type": "markdown",
      "metadata": {},
      "source": [
        "## Exported functions and structures\n",
        "\n",
        "\n",
        "### Vaults\n",
        "\n",
        "`Vault` \n",
        "\n",
        ":::{.callout-note appearance=\"minimal\"}"
      ],
      "id": "6d4df5cf"
    },
    {
      "cell_type": "code",
      "metadata": {},
      "source": [
        "#| echo: false\n",
        "#| warning: false\n",
        "using Obsidian\n",
        "@doc Vault"
      ],
      "id": "a3f010f6",
      "execution_count": null,
      "outputs": []
    },
    {
      "cell_type": "markdown",
      "metadata": {},
      "source": [
        ":::\n",
        "\n",
        "`wikinames`\n",
        "\n",
        ":::{.callout-note appearance=\"minimal\"}"
      ],
      "id": "beb379d3"
    },
    {
      "cell_type": "code",
      "metadata": {},
      "source": [
        "#| echo: false\n",
        "#| warning: false\n",
        "@doc wikinames"
      ],
      "id": "7dcb972b",
      "execution_count": null,
      "outputs": []
    },
    {
      "cell_type": "markdown",
      "metadata": {},
      "source": [
        ":::\n",
        "\n",
        " \n",
        "`path`\n",
        "\n",
        ":::{.callout-note appearance=\"minimal\"}"
      ],
      "id": "7c436993"
    },
    {
      "cell_type": "code",
      "metadata": {},
      "source": [
        "#| echo: false\n",
        "#| warning: false\n",
        "@doc path"
      ],
      "id": "8b7ae28d",
      "execution_count": null,
      "outputs": []
    },
    {
      "cell_type": "markdown",
      "metadata": {},
      "source": [
        ":::\n",
        "\n",
        "`linkson`\n",
        "\n",
        ":::{.callout-note appearance=\"minimal\"}"
      ],
      "id": "1038a497"
    },
    {
      "cell_type": "code",
      "metadata": {},
      "source": [
        "#| echo: false\n",
        "#| warning: false\n",
        "@doc linkson"
      ],
      "id": "b41969d0",
      "execution_count": null,
      "outputs": []
    },
    {
      "cell_type": "markdown",
      "metadata": {},
      "source": [
        ":::\n",
        "\n",
        "`linkedto`\n",
        "\n",
        "\n",
        ":::{.callout-note appearance=\"minimal\"}"
      ],
      "id": "672fae1f"
    },
    {
      "cell_type": "code",
      "metadata": {},
      "source": [
        "#| echo: false\n",
        "#| warning: false\n",
        "@doc linkedto"
      ],
      "id": "116758ab",
      "execution_count": null,
      "outputs": []
    },
    {
      "cell_type": "markdown",
      "metadata": {},
      "source": [
        ":::\n",
        "\n",
        "`tags`\n",
        "\n",
        ":::{.callout-note appearance=\"minimal\"}"
      ],
      "id": "5eca1077"
    },
    {
      "cell_type": "code",
      "metadata": {},
      "source": [
        "#| echo: false\n",
        "#| warning: false\n",
        "@doc tags"
      ],
      "id": "33c3e6e6",
      "execution_count": null,
      "outputs": []
    },
    {
      "cell_type": "markdown",
      "metadata": {},
      "source": [
        ":::\n",
        "\n",
        "\n",
        "### Key-value metadata\n",
        "\n",
        "`NoteKV`\n",
        "\n",
        ":::{.callout-note appearance=\"minimal\"}"
      ],
      "id": "ea54c1c2"
    },
    {
      "cell_type": "code",
      "metadata": {},
      "source": [
        "#| echo: false\n",
        "#| warning: false\n",
        "@doc NoteKV"
      ],
      "id": "db25ab85",
      "execution_count": null,
      "outputs": []
    },
    {
      "cell_type": "markdown",
      "metadata": {},
      "source": [
        ":::\n",
        "\n",
        "\n",
        "`kvpairs`\n",
        "\n",
        ":::{.callout-note appearance=\"minimal\"}"
      ],
      "id": "4de5fd93"
    },
    {
      "cell_type": "code",
      "metadata": {},
      "source": [
        "#| echo: false\n",
        "#| warning: false\n",
        "@doc kvpairs"
      ],
      "id": "e9cfcc7a",
      "execution_count": null,
      "outputs": []
    },
    {
      "cell_type": "markdown",
      "metadata": {},
      "source": [
        ":::\n",
        "\n",
        "\n",
        "## Internal functions"
      ],
      "id": "141be725"
    }
  ],
  "metadata": {
    "kernelspec": {
      "name": "julia-1.10",
      "language": "julia",
      "display_name": "Julia 1.10.0"
    }
  },
  "nbformat": 4,
  "nbformat_minor": 5
}